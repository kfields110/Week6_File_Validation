{
  "nbformat": 4,
  "nbformat_minor": 0,
  "metadata": {
    "colab": {
      "name": "Week6_File_Validation.ipynb",
      "provenance": [],
      "authorship_tag": "ABX9TyME+T8Oa6TS7UTS0oLQFSz3",
      "include_colab_link": true
    },
    "kernelspec": {
      "name": "python3",
      "display_name": "Python 3"
    },
    "language_info": {
      "name": "python"
    }
  },
  "cells": [
    {
      "cell_type": "markdown",
      "metadata": {
        "id": "view-in-github",
        "colab_type": "text"
      },
      "source": [
        "<a href=\"https://colab.research.google.com/github/kfields110/Week6_File_Validation/blob/main/Week6_File_Validation.ipynb\" target=\"_parent\"><img src=\"https://colab.research.google.com/assets/colab-badge.svg\" alt=\"Open In Colab\"/></a>"
      ]
    },
    {
      "cell_type": "markdown",
      "source": [
        "Dataset source: 15 Million Chess Games from Lichess (2013-2014) from Kaggle"
      ],
      "metadata": {
        "id": "X0j-nXlwO5E8"
      }
    },
    {
      "cell_type": "markdown",
      "source": [
        "We are going to read and manipulate a large CSV file with several different methods and determine computational efficiency. We will be using pandas, Modin, Ray, and Dask."
      ],
      "metadata": {
        "id": "mOD4S39qRZt8"
      }
    },
    {
      "cell_type": "code",
      "source": [
        "%%writefile testutility.py\n",
        "import logging\n",
        "import os\n",
        "import subprocess\n",
        "import yaml\n",
        "import pandas as pd\n",
        "import datetime \n",
        "import gc\n",
        "import re\n",
        "\n",
        "\n",
        "################\n",
        "# File Reading #\n",
        "################\n",
        "\n",
        "def read_config_file(filepath):\n",
        "    with open(filepath, 'r') as stream:\n",
        "        try:\n",
        "            return yaml.safe_load(stream)\n",
        "        except yaml.YAMLError as exc:\n",
        "            logging.error(exc)\n",
        "\n",
        "\n",
        "def replacer(string, char):\n",
        "    pattern = char + '{2,}'\n",
        "    string = re.sub(pattern, char, string) \n",
        "    return string\n",
        "\n",
        "def col_header_val(df,table_config):\n",
        "    '''\n",
        "    replace whitespaces in the column\n",
        "    and standardized column names\n",
        "    '''\n",
        "    df.columns = df.columns.str.lower()\n",
        "    df.columns = df.columns.str.replace('[^\\w]','_',regex=True)\n",
        "    df.columns = list(map(lambda x: x.strip('_'), list(df.columns)))\n",
        "    df.columns = list(map(lambda x: replacer(x,'_'), list(df.columns)))\n",
        "    expected_col = list(map(lambda x: x.lower(),  table_config['columns']))\n",
        "    expected_col.sort()\n",
        "    df.columns =list(map(lambda x: x.lower(), list(df.columns)))\n",
        "    df = df.reindex(sorted(df.columns), axis=1)\n",
        "    if len(df.columns) == len(expected_col) and list(expected_col)  == list(df.columns):\n",
        "        print(\"column name and column length validation passed\")\n",
        "        return 1\n",
        "    else:\n",
        "        print(\"column name and column length validation failed\")\n",
        "        mismatched_columns_file = list(set(df.columns).difference(expected_col))\n",
        "        print(\"Following File columns are not in the YAML file\",mismatched_columns_file)\n",
        "        missing_YAML_file = list(set(expected_col).difference(df.columns))\n",
        "        print(\"Following YAML columns are not in the file uploaded\",missing_YAML_file)\n",
        "        logging.info(f'df columns: {df.columns}')\n",
        "        logging.info(f'expected columns: {expected_col}')\n",
        "        return 0\n"
      ],
      "metadata": {
        "id": "vKwNsHvRRs9P",
        "colab": {
          "base_uri": "https://localhost:8080/"
        },
        "outputId": "e2cd7c62-d4d7-4ca8-e26d-b9b9068a7baa"
      },
      "execution_count": null,
      "outputs": [
        {
          "output_type": "stream",
          "name": "stdout",
          "text": [
            "Writing testutility.py\n"
          ]
        }
      ]
    },
    {
      "cell_type": "markdown",
      "source": [
        "Writing YAML File\n"
      ],
      "metadata": {
        "id": "X4KexH5E_PQ1"
      }
    },
    {
      "cell_type": "code",
      "source": [
        "%%writefile file.yaml\n",
        "file_type: csv\n",
        "dataset_name: Lichess_2013_2014_Complete\n",
        "file_name: Lichess_2013_2014_Complete\n",
        "table_name: edsurv\n",
        "inbound_delimiter: \",\"\n",
        "outbound_delimiter: \"|\"\n",
        "skip_leading_rows: 1\n",
        "columns: \n",
        "    - WhiteElo\n",
        "    - BlackElo\n",
        "    - WhiteName\n",
        "    - BlackName\n",
        "    - Winner\n",
        "    - Termination\n",
        "    - Site\n",
        "    - Day\n",
        "    - Month\n",
        "    - Year\n",
        "    - InitialTime\n",
        "    - Increment\n",
        "    - TimeControl\n",
        "    - Opening\n",
        "    - ECO\n",
        "    - Number_of_Moves"
      ],
      "metadata": {
        "colab": {
          "base_uri": "https://localhost:8080/"
        },
        "id": "n1KXZzmO_NP7",
        "outputId": "ca7abc6e-cd96-46b8-a871-3cf438d03732"
      },
      "execution_count": null,
      "outputs": [
        {
          "output_type": "stream",
          "name": "stdout",
          "text": [
            "Overwriting file.yaml\n"
          ]
        }
      ]
    },
    {
      "cell_type": "code",
      "source": [
        "# Read config file\n",
        "import testutility as util\n",
        "config_data = util.read_config_file(\"file.yaml\")"
      ],
      "metadata": {
        "id": "YcgnKsnu_r8x"
      },
      "execution_count": null,
      "outputs": []
    },
    {
      "cell_type": "code",
      "source": [
        "config_data"
      ],
      "metadata": {
        "colab": {
          "base_uri": "https://localhost:8080/"
        },
        "id": "H_K-Td-TBlaA",
        "outputId": "825a6b77-620d-497a-c425-a9f50642a1da"
      },
      "execution_count": null,
      "outputs": [
        {
          "output_type": "execute_result",
          "data": {
            "text/plain": [
              "{'columns': ['WhiteElo',\n",
              "  'BlackElo',\n",
              "  'WhiteName',\n",
              "  'BlackName',\n",
              "  'Winner',\n",
              "  'Termination',\n",
              "  'Site',\n",
              "  'Day',\n",
              "  'Month',\n",
              "  'Year',\n",
              "  'InitialTime',\n",
              "  'Increment',\n",
              "  'TimeControl',\n",
              "  'Opening',\n",
              "  'ECO',\n",
              "  'Number_of_Moves'],\n",
              " 'dataset_name': 'Lichess_2013_2014_Complete',\n",
              " 'file_name': 'Lichess_2013_2014_Complete',\n",
              " 'file_type': 'csv',\n",
              " 'inbound_delimiter': ',',\n",
              " 'outbound_delimiter': '|',\n",
              " 'skip_leading_rows': 1,\n",
              " 'table_name': 'edsurv'}"
            ]
          },
          "metadata": {},
          "execution_count": 47
        }
      ]
    },
    {
      "cell_type": "code",
      "source": [
        "# Normal reading process of the file\n",
        "import pandas as pd\n",
        "df_sample = pd.read_csv(\"Lichess_2013_2014_Complete.csv\",delimiter=',')\n",
        "df_sample.head()"
      ],
      "metadata": {
        "colab": {
          "base_uri": "https://localhost:8080/",
          "height": 441
        },
        "id": "dNLXSjZZBm63",
        "outputId": "628f826b-d964-4f92-deee-d269170a03f0"
      },
      "execution_count": null,
      "outputs": [
        {
          "output_type": "execute_result",
          "data": {
            "text/plain": [
              "   WhiteElo  BlackElo         WhiteName          BlackName Winner Termination  \\\n",
              "0      1639      1403             BFG9k            mamalak  White      Normal   \n",
              "1      1654      1919    Desmond_Wilson          savinka59  White      Normal   \n",
              "2      1643      1747     Kozakmamay007  VanillaShamanilla  White      Normal   \n",
              "3      1824      1973  Naitero_Nagasaki                800  Black      Normal   \n",
              "4      1765      1815      nichiren1967   Naitero_Nagasaki  Black      Normal   \n",
              "\n",
              "                           Site   Day  Month    Year  InitialTime  Increment  \\\n",
              "0  https://lichess.org/j1dkb5dw  31.0   12.0  2012.0        600.0        8.0   \n",
              "1  https://lichess.org/a9tcp02g  31.0   12.0  2012.0        480.0        2.0   \n",
              "2  https://lichess.org/szom2tog  31.0   12.0  2012.0        420.0       17.0   \n",
              "3  https://lichess.org/rklpc7mk  31.0   12.0  2012.0         60.0        1.0   \n",
              "4  https://lichess.org/1xb3os63  31.0   12.0  2012.0         60.0        1.0   \n",
              "\n",
              "  TimeControl                                      Opening  ECO  \\\n",
              "0       Rapid             French Defense: Normal Variation  C00   \n",
              "1       Rapid  Queen's Pawn Game: Colle System, Anti-Colle  D04   \n",
              "2       Rapid         Four Knights Game: Italian Variation  C50   \n",
              "3      Bullet         Caro-Kann Defense: Goldman Variation  B12   \n",
              "4      Bullet     French Defense: La Bourdonnais Variation  C00   \n",
              "\n",
              "   Number_of_Moves  \n",
              "0             13.0  \n",
              "1             18.0  \n",
              "2             11.0  \n",
              "3             47.0  \n",
              "4             23.0  "
            ],
            "text/html": [
              "\n",
              "  <div id=\"df-39197f0a-681f-4d81-91e0-64ea010acc65\">\n",
              "    <div class=\"colab-df-container\">\n",
              "      <div>\n",
              "<style scoped>\n",
              "    .dataframe tbody tr th:only-of-type {\n",
              "        vertical-align: middle;\n",
              "    }\n",
              "\n",
              "    .dataframe tbody tr th {\n",
              "        vertical-align: top;\n",
              "    }\n",
              "\n",
              "    .dataframe thead th {\n",
              "        text-align: right;\n",
              "    }\n",
              "</style>\n",
              "<table border=\"1\" class=\"dataframe\">\n",
              "  <thead>\n",
              "    <tr style=\"text-align: right;\">\n",
              "      <th></th>\n",
              "      <th>WhiteElo</th>\n",
              "      <th>BlackElo</th>\n",
              "      <th>WhiteName</th>\n",
              "      <th>BlackName</th>\n",
              "      <th>Winner</th>\n",
              "      <th>Termination</th>\n",
              "      <th>Site</th>\n",
              "      <th>Day</th>\n",
              "      <th>Month</th>\n",
              "      <th>Year</th>\n",
              "      <th>InitialTime</th>\n",
              "      <th>Increment</th>\n",
              "      <th>TimeControl</th>\n",
              "      <th>Opening</th>\n",
              "      <th>ECO</th>\n",
              "      <th>Number_of_Moves</th>\n",
              "    </tr>\n",
              "  </thead>\n",
              "  <tbody>\n",
              "    <tr>\n",
              "      <th>0</th>\n",
              "      <td>1639</td>\n",
              "      <td>1403</td>\n",
              "      <td>BFG9k</td>\n",
              "      <td>mamalak</td>\n",
              "      <td>White</td>\n",
              "      <td>Normal</td>\n",
              "      <td>https://lichess.org/j1dkb5dw</td>\n",
              "      <td>31.0</td>\n",
              "      <td>12.0</td>\n",
              "      <td>2012.0</td>\n",
              "      <td>600.0</td>\n",
              "      <td>8.0</td>\n",
              "      <td>Rapid</td>\n",
              "      <td>French Defense: Normal Variation</td>\n",
              "      <td>C00</td>\n",
              "      <td>13.0</td>\n",
              "    </tr>\n",
              "    <tr>\n",
              "      <th>1</th>\n",
              "      <td>1654</td>\n",
              "      <td>1919</td>\n",
              "      <td>Desmond_Wilson</td>\n",
              "      <td>savinka59</td>\n",
              "      <td>White</td>\n",
              "      <td>Normal</td>\n",
              "      <td>https://lichess.org/a9tcp02g</td>\n",
              "      <td>31.0</td>\n",
              "      <td>12.0</td>\n",
              "      <td>2012.0</td>\n",
              "      <td>480.0</td>\n",
              "      <td>2.0</td>\n",
              "      <td>Rapid</td>\n",
              "      <td>Queen's Pawn Game: Colle System, Anti-Colle</td>\n",
              "      <td>D04</td>\n",
              "      <td>18.0</td>\n",
              "    </tr>\n",
              "    <tr>\n",
              "      <th>2</th>\n",
              "      <td>1643</td>\n",
              "      <td>1747</td>\n",
              "      <td>Kozakmamay007</td>\n",
              "      <td>VanillaShamanilla</td>\n",
              "      <td>White</td>\n",
              "      <td>Normal</td>\n",
              "      <td>https://lichess.org/szom2tog</td>\n",
              "      <td>31.0</td>\n",
              "      <td>12.0</td>\n",
              "      <td>2012.0</td>\n",
              "      <td>420.0</td>\n",
              "      <td>17.0</td>\n",
              "      <td>Rapid</td>\n",
              "      <td>Four Knights Game: Italian Variation</td>\n",
              "      <td>C50</td>\n",
              "      <td>11.0</td>\n",
              "    </tr>\n",
              "    <tr>\n",
              "      <th>3</th>\n",
              "      <td>1824</td>\n",
              "      <td>1973</td>\n",
              "      <td>Naitero_Nagasaki</td>\n",
              "      <td>800</td>\n",
              "      <td>Black</td>\n",
              "      <td>Normal</td>\n",
              "      <td>https://lichess.org/rklpc7mk</td>\n",
              "      <td>31.0</td>\n",
              "      <td>12.0</td>\n",
              "      <td>2012.0</td>\n",
              "      <td>60.0</td>\n",
              "      <td>1.0</td>\n",
              "      <td>Bullet</td>\n",
              "      <td>Caro-Kann Defense: Goldman Variation</td>\n",
              "      <td>B12</td>\n",
              "      <td>47.0</td>\n",
              "    </tr>\n",
              "    <tr>\n",
              "      <th>4</th>\n",
              "      <td>1765</td>\n",
              "      <td>1815</td>\n",
              "      <td>nichiren1967</td>\n",
              "      <td>Naitero_Nagasaki</td>\n",
              "      <td>Black</td>\n",
              "      <td>Normal</td>\n",
              "      <td>https://lichess.org/1xb3os63</td>\n",
              "      <td>31.0</td>\n",
              "      <td>12.0</td>\n",
              "      <td>2012.0</td>\n",
              "      <td>60.0</td>\n",
              "      <td>1.0</td>\n",
              "      <td>Bullet</td>\n",
              "      <td>French Defense: La Bourdonnais Variation</td>\n",
              "      <td>C00</td>\n",
              "      <td>23.0</td>\n",
              "    </tr>\n",
              "  </tbody>\n",
              "</table>\n",
              "</div>\n",
              "      <button class=\"colab-df-convert\" onclick=\"convertToInteractive('df-39197f0a-681f-4d81-91e0-64ea010acc65')\"\n",
              "              title=\"Convert this dataframe to an interactive table.\"\n",
              "              style=\"display:none;\">\n",
              "        \n",
              "  <svg xmlns=\"http://www.w3.org/2000/svg\" height=\"24px\"viewBox=\"0 0 24 24\"\n",
              "       width=\"24px\">\n",
              "    <path d=\"M0 0h24v24H0V0z\" fill=\"none\"/>\n",
              "    <path d=\"M18.56 5.44l.94 2.06.94-2.06 2.06-.94-2.06-.94-.94-2.06-.94 2.06-2.06.94zm-11 1L8.5 8.5l.94-2.06 2.06-.94-2.06-.94L8.5 2.5l-.94 2.06-2.06.94zm10 10l.94 2.06.94-2.06 2.06-.94-2.06-.94-.94-2.06-.94 2.06-2.06.94z\"/><path d=\"M17.41 7.96l-1.37-1.37c-.4-.4-.92-.59-1.43-.59-.52 0-1.04.2-1.43.59L10.3 9.45l-7.72 7.72c-.78.78-.78 2.05 0 2.83L4 21.41c.39.39.9.59 1.41.59.51 0 1.02-.2 1.41-.59l7.78-7.78 2.81-2.81c.8-.78.8-2.07 0-2.86zM5.41 20L4 18.59l7.72-7.72 1.47 1.35L5.41 20z\"/>\n",
              "  </svg>\n",
              "      </button>\n",
              "      \n",
              "  <style>\n",
              "    .colab-df-container {\n",
              "      display:flex;\n",
              "      flex-wrap:wrap;\n",
              "      gap: 12px;\n",
              "    }\n",
              "\n",
              "    .colab-df-convert {\n",
              "      background-color: #E8F0FE;\n",
              "      border: none;\n",
              "      border-radius: 50%;\n",
              "      cursor: pointer;\n",
              "      display: none;\n",
              "      fill: #1967D2;\n",
              "      height: 32px;\n",
              "      padding: 0 0 0 0;\n",
              "      width: 32px;\n",
              "    }\n",
              "\n",
              "    .colab-df-convert:hover {\n",
              "      background-color: #E2EBFA;\n",
              "      box-shadow: 0px 1px 2px rgba(60, 64, 67, 0.3), 0px 1px 3px 1px rgba(60, 64, 67, 0.15);\n",
              "      fill: #174EA6;\n",
              "    }\n",
              "\n",
              "    [theme=dark] .colab-df-convert {\n",
              "      background-color: #3B4455;\n",
              "      fill: #D2E3FC;\n",
              "    }\n",
              "\n",
              "    [theme=dark] .colab-df-convert:hover {\n",
              "      background-color: #434B5C;\n",
              "      box-shadow: 0px 1px 3px 1px rgba(0, 0, 0, 0.15);\n",
              "      filter: drop-shadow(0px 1px 2px rgba(0, 0, 0, 0.3));\n",
              "      fill: #FFFFFF;\n",
              "    }\n",
              "  </style>\n",
              "\n",
              "      <script>\n",
              "        const buttonEl =\n",
              "          document.querySelector('#df-39197f0a-681f-4d81-91e0-64ea010acc65 button.colab-df-convert');\n",
              "        buttonEl.style.display =\n",
              "          google.colab.kernel.accessAllowed ? 'block' : 'none';\n",
              "\n",
              "        async function convertToInteractive(key) {\n",
              "          const element = document.querySelector('#df-39197f0a-681f-4d81-91e0-64ea010acc65');\n",
              "          const dataTable =\n",
              "            await google.colab.kernel.invokeFunction('convertToInteractive',\n",
              "                                                     [key], {});\n",
              "          if (!dataTable) return;\n",
              "\n",
              "          const docLinkHtml = 'Like what you see? Visit the ' +\n",
              "            '<a target=\"_blank\" href=https://colab.research.google.com/notebooks/data_table.ipynb>data table notebook</a>'\n",
              "            + ' to learn more about interactive tables.';\n",
              "          element.innerHTML = '';\n",
              "          dataTable['output_type'] = 'display_data';\n",
              "          await google.colab.output.renderOutput(dataTable, element);\n",
              "          const docLink = document.createElement('div');\n",
              "          docLink.innerHTML = docLinkHtml;\n",
              "          element.appendChild(docLink);\n",
              "        }\n",
              "      </script>\n",
              "    </div>\n",
              "  </div>\n",
              "  "
            ]
          },
          "metadata": {},
          "execution_count": 56
        }
      ]
    },
    {
      "cell_type": "markdown",
      "source": [
        "Pandas readcsv completed: 33s"
      ],
      "metadata": {
        "id": "t0JNtTFSah8F"
      }
    },
    {
      "cell_type": "code",
      "source": [
        "# read the file using config file\n",
        "file_type = config_data['file_type']\n",
        "source_file = \"./\" + config_data['file_name'] + f'.{file_type}'\n",
        "#print(\"\",source_file)\n",
        "df = pd.read_csv(source_file,config_data['inbound_delimiter'])\n",
        "df.head()"
      ],
      "metadata": {
        "id": "fg-S1PbSBuWz",
        "colab": {
          "base_uri": "https://localhost:8080/",
          "height": 496
        },
        "outputId": "71d0fa15-8f22-4fda-ba0d-fca14b199849"
      },
      "execution_count": null,
      "outputs": [
        {
          "output_type": "stream",
          "name": "stderr",
          "text": [
            "/usr/local/lib/python3.7/dist-packages/IPython/core/interactiveshell.py:2882: FutureWarning: In a future version of pandas all arguments of read_csv except for the argument 'filepath_or_buffer' will be keyword-only\n",
            "  exec(code_obj, self.user_global_ns, self.user_ns)\n"
          ]
        },
        {
          "output_type": "execute_result",
          "data": {
            "text/plain": [
              "   WhiteElo  BlackElo         WhiteName          BlackName Winner Termination  \\\n",
              "0      1639      1403             BFG9k            mamalak  White      Normal   \n",
              "1      1654      1919    Desmond_Wilson          savinka59  White      Normal   \n",
              "2      1643      1747     Kozakmamay007  VanillaShamanilla  White      Normal   \n",
              "3      1824      1973  Naitero_Nagasaki                800  Black      Normal   \n",
              "4      1765      1815      nichiren1967   Naitero_Nagasaki  Black      Normal   \n",
              "\n",
              "                           Site   Day  Month    Year  InitialTime  Increment  \\\n",
              "0  https://lichess.org/j1dkb5dw  31.0   12.0  2012.0        600.0        8.0   \n",
              "1  https://lichess.org/a9tcp02g  31.0   12.0  2012.0        480.0        2.0   \n",
              "2  https://lichess.org/szom2tog  31.0   12.0  2012.0        420.0       17.0   \n",
              "3  https://lichess.org/rklpc7mk  31.0   12.0  2012.0         60.0        1.0   \n",
              "4  https://lichess.org/1xb3os63  31.0   12.0  2012.0         60.0        1.0   \n",
              "\n",
              "  TimeControl                                      Opening  ECO  \\\n",
              "0       Rapid             French Defense: Normal Variation  C00   \n",
              "1       Rapid  Queen's Pawn Game: Colle System, Anti-Colle  D04   \n",
              "2       Rapid         Four Knights Game: Italian Variation  C50   \n",
              "3      Bullet         Caro-Kann Defense: Goldman Variation  B12   \n",
              "4      Bullet     French Defense: La Bourdonnais Variation  C00   \n",
              "\n",
              "   Number_of_Moves  \n",
              "0             13.0  \n",
              "1             18.0  \n",
              "2             11.0  \n",
              "3             47.0  \n",
              "4             23.0  "
            ],
            "text/html": [
              "\n",
              "  <div id=\"df-526a272a-ce52-412b-99e1-59c42b7c338b\">\n",
              "    <div class=\"colab-df-container\">\n",
              "      <div>\n",
              "<style scoped>\n",
              "    .dataframe tbody tr th:only-of-type {\n",
              "        vertical-align: middle;\n",
              "    }\n",
              "\n",
              "    .dataframe tbody tr th {\n",
              "        vertical-align: top;\n",
              "    }\n",
              "\n",
              "    .dataframe thead th {\n",
              "        text-align: right;\n",
              "    }\n",
              "</style>\n",
              "<table border=\"1\" class=\"dataframe\">\n",
              "  <thead>\n",
              "    <tr style=\"text-align: right;\">\n",
              "      <th></th>\n",
              "      <th>WhiteElo</th>\n",
              "      <th>BlackElo</th>\n",
              "      <th>WhiteName</th>\n",
              "      <th>BlackName</th>\n",
              "      <th>Winner</th>\n",
              "      <th>Termination</th>\n",
              "      <th>Site</th>\n",
              "      <th>Day</th>\n",
              "      <th>Month</th>\n",
              "      <th>Year</th>\n",
              "      <th>InitialTime</th>\n",
              "      <th>Increment</th>\n",
              "      <th>TimeControl</th>\n",
              "      <th>Opening</th>\n",
              "      <th>ECO</th>\n",
              "      <th>Number_of_Moves</th>\n",
              "    </tr>\n",
              "  </thead>\n",
              "  <tbody>\n",
              "    <tr>\n",
              "      <th>0</th>\n",
              "      <td>1639</td>\n",
              "      <td>1403</td>\n",
              "      <td>BFG9k</td>\n",
              "      <td>mamalak</td>\n",
              "      <td>White</td>\n",
              "      <td>Normal</td>\n",
              "      <td>https://lichess.org/j1dkb5dw</td>\n",
              "      <td>31.0</td>\n",
              "      <td>12.0</td>\n",
              "      <td>2012.0</td>\n",
              "      <td>600.0</td>\n",
              "      <td>8.0</td>\n",
              "      <td>Rapid</td>\n",
              "      <td>French Defense: Normal Variation</td>\n",
              "      <td>C00</td>\n",
              "      <td>13.0</td>\n",
              "    </tr>\n",
              "    <tr>\n",
              "      <th>1</th>\n",
              "      <td>1654</td>\n",
              "      <td>1919</td>\n",
              "      <td>Desmond_Wilson</td>\n",
              "      <td>savinka59</td>\n",
              "      <td>White</td>\n",
              "      <td>Normal</td>\n",
              "      <td>https://lichess.org/a9tcp02g</td>\n",
              "      <td>31.0</td>\n",
              "      <td>12.0</td>\n",
              "      <td>2012.0</td>\n",
              "      <td>480.0</td>\n",
              "      <td>2.0</td>\n",
              "      <td>Rapid</td>\n",
              "      <td>Queen's Pawn Game: Colle System, Anti-Colle</td>\n",
              "      <td>D04</td>\n",
              "      <td>18.0</td>\n",
              "    </tr>\n",
              "    <tr>\n",
              "      <th>2</th>\n",
              "      <td>1643</td>\n",
              "      <td>1747</td>\n",
              "      <td>Kozakmamay007</td>\n",
              "      <td>VanillaShamanilla</td>\n",
              "      <td>White</td>\n",
              "      <td>Normal</td>\n",
              "      <td>https://lichess.org/szom2tog</td>\n",
              "      <td>31.0</td>\n",
              "      <td>12.0</td>\n",
              "      <td>2012.0</td>\n",
              "      <td>420.0</td>\n",
              "      <td>17.0</td>\n",
              "      <td>Rapid</td>\n",
              "      <td>Four Knights Game: Italian Variation</td>\n",
              "      <td>C50</td>\n",
              "      <td>11.0</td>\n",
              "    </tr>\n",
              "    <tr>\n",
              "      <th>3</th>\n",
              "      <td>1824</td>\n",
              "      <td>1973</td>\n",
              "      <td>Naitero_Nagasaki</td>\n",
              "      <td>800</td>\n",
              "      <td>Black</td>\n",
              "      <td>Normal</td>\n",
              "      <td>https://lichess.org/rklpc7mk</td>\n",
              "      <td>31.0</td>\n",
              "      <td>12.0</td>\n",
              "      <td>2012.0</td>\n",
              "      <td>60.0</td>\n",
              "      <td>1.0</td>\n",
              "      <td>Bullet</td>\n",
              "      <td>Caro-Kann Defense: Goldman Variation</td>\n",
              "      <td>B12</td>\n",
              "      <td>47.0</td>\n",
              "    </tr>\n",
              "    <tr>\n",
              "      <th>4</th>\n",
              "      <td>1765</td>\n",
              "      <td>1815</td>\n",
              "      <td>nichiren1967</td>\n",
              "      <td>Naitero_Nagasaki</td>\n",
              "      <td>Black</td>\n",
              "      <td>Normal</td>\n",
              "      <td>https://lichess.org/1xb3os63</td>\n",
              "      <td>31.0</td>\n",
              "      <td>12.0</td>\n",
              "      <td>2012.0</td>\n",
              "      <td>60.0</td>\n",
              "      <td>1.0</td>\n",
              "      <td>Bullet</td>\n",
              "      <td>French Defense: La Bourdonnais Variation</td>\n",
              "      <td>C00</td>\n",
              "      <td>23.0</td>\n",
              "    </tr>\n",
              "  </tbody>\n",
              "</table>\n",
              "</div>\n",
              "      <button class=\"colab-df-convert\" onclick=\"convertToInteractive('df-526a272a-ce52-412b-99e1-59c42b7c338b')\"\n",
              "              title=\"Convert this dataframe to an interactive table.\"\n",
              "              style=\"display:none;\">\n",
              "        \n",
              "  <svg xmlns=\"http://www.w3.org/2000/svg\" height=\"24px\"viewBox=\"0 0 24 24\"\n",
              "       width=\"24px\">\n",
              "    <path d=\"M0 0h24v24H0V0z\" fill=\"none\"/>\n",
              "    <path d=\"M18.56 5.44l.94 2.06.94-2.06 2.06-.94-2.06-.94-.94-2.06-.94 2.06-2.06.94zm-11 1L8.5 8.5l.94-2.06 2.06-.94-2.06-.94L8.5 2.5l-.94 2.06-2.06.94zm10 10l.94 2.06.94-2.06 2.06-.94-2.06-.94-.94-2.06-.94 2.06-2.06.94z\"/><path d=\"M17.41 7.96l-1.37-1.37c-.4-.4-.92-.59-1.43-.59-.52 0-1.04.2-1.43.59L10.3 9.45l-7.72 7.72c-.78.78-.78 2.05 0 2.83L4 21.41c.39.39.9.59 1.41.59.51 0 1.02-.2 1.41-.59l7.78-7.78 2.81-2.81c.8-.78.8-2.07 0-2.86zM5.41 20L4 18.59l7.72-7.72 1.47 1.35L5.41 20z\"/>\n",
              "  </svg>\n",
              "      </button>\n",
              "      \n",
              "  <style>\n",
              "    .colab-df-container {\n",
              "      display:flex;\n",
              "      flex-wrap:wrap;\n",
              "      gap: 12px;\n",
              "    }\n",
              "\n",
              "    .colab-df-convert {\n",
              "      background-color: #E8F0FE;\n",
              "      border: none;\n",
              "      border-radius: 50%;\n",
              "      cursor: pointer;\n",
              "      display: none;\n",
              "      fill: #1967D2;\n",
              "      height: 32px;\n",
              "      padding: 0 0 0 0;\n",
              "      width: 32px;\n",
              "    }\n",
              "\n",
              "    .colab-df-convert:hover {\n",
              "      background-color: #E2EBFA;\n",
              "      box-shadow: 0px 1px 2px rgba(60, 64, 67, 0.3), 0px 1px 3px 1px rgba(60, 64, 67, 0.15);\n",
              "      fill: #174EA6;\n",
              "    }\n",
              "\n",
              "    [theme=dark] .colab-df-convert {\n",
              "      background-color: #3B4455;\n",
              "      fill: #D2E3FC;\n",
              "    }\n",
              "\n",
              "    [theme=dark] .colab-df-convert:hover {\n",
              "      background-color: #434B5C;\n",
              "      box-shadow: 0px 1px 3px 1px rgba(0, 0, 0, 0.15);\n",
              "      filter: drop-shadow(0px 1px 2px rgba(0, 0, 0, 0.3));\n",
              "      fill: #FFFFFF;\n",
              "    }\n",
              "  </style>\n",
              "\n",
              "      <script>\n",
              "        const buttonEl =\n",
              "          document.querySelector('#df-526a272a-ce52-412b-99e1-59c42b7c338b button.colab-df-convert');\n",
              "        buttonEl.style.display =\n",
              "          google.colab.kernel.accessAllowed ? 'block' : 'none';\n",
              "\n",
              "        async function convertToInteractive(key) {\n",
              "          const element = document.querySelector('#df-526a272a-ce52-412b-99e1-59c42b7c338b');\n",
              "          const dataTable =\n",
              "            await google.colab.kernel.invokeFunction('convertToInteractive',\n",
              "                                                     [key], {});\n",
              "          if (!dataTable) return;\n",
              "\n",
              "          const docLinkHtml = 'Like what you see? Visit the ' +\n",
              "            '<a target=\"_blank\" href=https://colab.research.google.com/notebooks/data_table.ipynb>data table notebook</a>'\n",
              "            + ' to learn more about interactive tables.';\n",
              "          element.innerHTML = '';\n",
              "          dataTable['output_type'] = 'display_data';\n",
              "          await google.colab.output.renderOutput(dataTable, element);\n",
              "          const docLink = document.createElement('div');\n",
              "          docLink.innerHTML = docLinkHtml;\n",
              "          element.appendChild(docLink);\n",
              "        }\n",
              "      </script>\n",
              "    </div>\n",
              "  </div>\n",
              "  "
            ]
          },
          "metadata": {},
          "execution_count": 48
        }
      ]
    },
    {
      "cell_type": "markdown",
      "source": [
        "Reading File with YAML Config: 29s"
      ],
      "metadata": {
        "id": "oN67SR2uXjf7"
      }
    },
    {
      "cell_type": "code",
      "source": [
        "#validate the header of the file\n",
        "util.col_header_val(df,config_data)"
      ],
      "metadata": {
        "colab": {
          "base_uri": "https://localhost:8080/"
        },
        "id": "BDW-rcpEFad7",
        "outputId": "8baa44a4-46eb-4b3e-aa4b-401c30745356"
      },
      "execution_count": null,
      "outputs": [
        {
          "output_type": "stream",
          "name": "stdout",
          "text": [
            "column name and column length validation passed\n"
          ]
        },
        {
          "output_type": "execute_result",
          "data": {
            "text/plain": [
              "1"
            ]
          },
          "metadata": {},
          "execution_count": 49
        }
      ]
    },
    {
      "cell_type": "markdown",
      "source": [
        "Basic Validation Confirmed. All columns were converted to lower case and special characters were handled."
      ],
      "metadata": {
        "id": "hbeCqCADYXn7"
      }
    },
    {
      "cell_type": "code",
      "source": [
        "print(\"columns of files are:\" ,df.columns)\n",
        "print(\"columns of YAML are:\" ,config_data['columns'])"
      ],
      "metadata": {
        "colab": {
          "base_uri": "https://localhost:8080/"
        },
        "id": "VzIey8XCGrsC",
        "outputId": "1e1dfcf4-f310-4ae5-8c69-d0f602131cf7"
      },
      "execution_count": null,
      "outputs": [
        {
          "output_type": "stream",
          "name": "stdout",
          "text": [
            "columns of files are: Index(['whiteelo', 'blackelo', 'whitename', 'blackname', 'winner',\n",
            "       'termination', 'site', 'day', 'month', 'year', 'initialtime',\n",
            "       'increment', 'timecontrol', 'opening', 'eco', 'number_of_moves'],\n",
            "      dtype='object')\n",
            "columns of YAML are: ['WhiteElo', 'BlackElo', 'WhiteName', 'BlackName', 'Winner', 'Termination', 'Site', 'Day', 'Month', 'Year', 'InitialTime', 'Increment', 'TimeControl', 'Opening', 'ECO', 'Number_of_Moves']\n"
          ]
        }
      ]
    },
    {
      "cell_type": "markdown",
      "source": [
        "Converting File with pipeline delimiter"
      ],
      "metadata": {
        "id": "xEmfajnFHtYC"
      }
    },
    {
      "cell_type": "code",
      "source": [
        "import csv\n",
        "\n",
        "with open('Lichess_2013_2014_Complete.csv') as fin:\n",
        "    # newline='' prevents extra newlines when using Python 3 on Windows\n",
        "    with open('OutputFile.txt', 'w', newline='') as fout:\n",
        "        reader = csv.DictReader(fin, delimiter=',')\n",
        "        writer = csv.DictWriter(fout, reader.fieldnames, delimiter='|')\n",
        "        writer.writeheader()\n",
        "        writer.writerows(reader)"
      ],
      "metadata": {
        "id": "ZyIvpePNKwaP"
      },
      "execution_count": null,
      "outputs": []
    },
    {
      "cell_type": "markdown",
      "source": [
        "Time to convert to '|' delimiter: 2 mins 55 s\n",
        "\n"
      ],
      "metadata": {
        "id": "ORx_4GBTMENi"
      }
    },
    {
      "cell_type": "markdown",
      "source": [
        "Convert output.txt to gz format"
      ],
      "metadata": {
        "id": "_p7xqH_JNA7E"
      }
    },
    {
      "cell_type": "code",
      "source": [
        "import gzip\n",
        "\n",
        "with open(\"OutputFile.txt\", 'rb') as orig_file:\n",
        "    with gzip.open(\"OutputFile.txt.gz\", 'wb') as zipped_file:\n",
        "        zipped_file.writelines(orig_file)"
      ],
      "metadata": {
        "id": "hqe7eB1uNvnT"
      },
      "execution_count": null,
      "outputs": []
    },
    {
      "cell_type": "markdown",
      "source": [
        "Converting to gz format: 2m 26s"
      ],
      "metadata": {
        "id": "chcCdOz8N1o-"
      }
    },
    {
      "cell_type": "markdown",
      "source": [
        "Now we will try reading file with other methods and see computational efficiency."
      ],
      "metadata": {
        "id": "BCWviVVEPIp6"
      }
    },
    {
      "cell_type": "code",
      "source": [
        "#Using Dask\n",
        "!python -m pip install \"dask[complete]\"\n",
        "import dask\n",
        "import dask.dataframe as dd "
      ],
      "metadata": {
        "colab": {
          "base_uri": "https://localhost:8080/"
        },
        "id": "jdueED06ZIBS",
        "outputId": "c21c44b0-1a68-47a2-c1e4-beddc8c59f24"
      },
      "execution_count": null,
      "outputs": [
        {
          "output_type": "stream",
          "name": "stdout",
          "text": [
            "Looking in indexes: https://pypi.org/simple, https://us-python.pkg.dev/colab-wheels/public/simple/\n",
            "Requirement already satisfied: dask[complete] in /usr/local/lib/python3.7/dist-packages (2.12.0)\n",
            "Requirement already satisfied: PyYaml in /usr/local/lib/python3.7/dist-packages (from dask[complete]) (3.13)\n",
            "Requirement already satisfied: numpy>=1.13.0 in /usr/local/lib/python3.7/dist-packages (from dask[complete]) (1.21.6)\n",
            "Requirement already satisfied: pandas>=0.23.0 in /usr/local/lib/python3.7/dist-packages (from dask[complete]) (1.3.5)\n",
            "Requirement already satisfied: cloudpickle>=0.2.1 in /usr/local/lib/python3.7/dist-packages (from dask[complete]) (2.1.0)\n",
            "Requirement already satisfied: toolz>=0.7.3 in /usr/local/lib/python3.7/dist-packages (from dask[complete]) (0.12.0)\n",
            "Requirement already satisfied: fsspec>=0.6.0 in /usr/local/lib/python3.7/dist-packages (from dask[complete]) (2022.7.1)\n",
            "Requirement already satisfied: bokeh>=1.0.0 in /usr/local/lib/python3.7/dist-packages (from dask[complete]) (2.3.3)\n",
            "Requirement already satisfied: partd>=0.3.10 in /usr/local/lib/python3.7/dist-packages (from dask[complete]) (1.3.0)\n",
            "Requirement already satisfied: distributed>=2.0 in /usr/local/lib/python3.7/dist-packages (from dask[complete]) (2.30.1)\n",
            "Requirement already satisfied: packaging>=16.8 in /usr/local/lib/python3.7/dist-packages (from bokeh>=1.0.0->dask[complete]) (21.3)\n",
            "Requirement already satisfied: Jinja2>=2.9 in /usr/local/lib/python3.7/dist-packages (from bokeh>=1.0.0->dask[complete]) (2.11.3)\n",
            "Requirement already satisfied: typing-extensions>=3.7.4 in /usr/local/lib/python3.7/dist-packages (from bokeh>=1.0.0->dask[complete]) (4.1.1)\n",
            "Requirement already satisfied: tornado>=5.1 in /usr/local/lib/python3.7/dist-packages (from bokeh>=1.0.0->dask[complete]) (5.1.1)\n",
            "Requirement already satisfied: pillow>=7.1.0 in /usr/local/lib/python3.7/dist-packages (from bokeh>=1.0.0->dask[complete]) (7.1.2)\n",
            "Requirement already satisfied: python-dateutil>=2.1 in /usr/local/lib/python3.7/dist-packages (from bokeh>=1.0.0->dask[complete]) (2.8.2)\n",
            "Requirement already satisfied: click>=6.6 in /usr/local/lib/python3.7/dist-packages (from distributed>=2.0->dask[complete]) (7.1.2)\n",
            "Requirement already satisfied: setuptools in /usr/local/lib/python3.7/dist-packages (from distributed>=2.0->dask[complete]) (57.4.0)\n",
            "Requirement already satisfied: sortedcontainers!=2.0.0,!=2.0.1 in /usr/local/lib/python3.7/dist-packages (from distributed>=2.0->dask[complete]) (2.4.0)\n",
            "Requirement already satisfied: zict>=0.1.3 in /usr/local/lib/python3.7/dist-packages (from distributed>=2.0->dask[complete]) (2.2.0)\n",
            "Requirement already satisfied: psutil>=5.0 in /usr/local/lib/python3.7/dist-packages (from distributed>=2.0->dask[complete]) (5.4.8)\n",
            "Requirement already satisfied: msgpack>=0.6.0 in /usr/local/lib/python3.7/dist-packages (from distributed>=2.0->dask[complete]) (1.0.4)\n",
            "Requirement already satisfied: tblib>=1.6.0 in /usr/local/lib/python3.7/dist-packages (from distributed>=2.0->dask[complete]) (1.7.0)\n",
            "Requirement already satisfied: MarkupSafe>=0.23 in /usr/local/lib/python3.7/dist-packages (from Jinja2>=2.9->bokeh>=1.0.0->dask[complete]) (2.0.1)\n",
            "Requirement already satisfied: pyparsing!=3.0.5,>=2.0.2 in /usr/local/lib/python3.7/dist-packages (from packaging>=16.8->bokeh>=1.0.0->dask[complete]) (3.0.9)\n",
            "Requirement already satisfied: pytz>=2017.3 in /usr/local/lib/python3.7/dist-packages (from pandas>=0.23.0->dask[complete]) (2022.1)\n",
            "Requirement already satisfied: locket in /usr/local/lib/python3.7/dist-packages (from partd>=0.3.10->dask[complete]) (1.0.0)\n",
            "Requirement already satisfied: six>=1.5 in /usr/local/lib/python3.7/dist-packages (from python-dateutil>=2.1->bokeh>=1.0.0->dask[complete]) (1.15.0)\n",
            "Requirement already satisfied: heapdict in /usr/local/lib/python3.7/dist-packages (from zict>=0.1.3->distributed>=2.0->dask[complete]) (1.0.1)\n"
          ]
        }
      ]
    },
    {
      "cell_type": "code",
      "source": [
        "df = dd.read_csv('Lichess_2013_2014_Complete.csv')\n",
        "df.head()"
      ],
      "metadata": {
        "colab": {
          "base_uri": "https://localhost:8080/",
          "height": 372
        },
        "id": "xk-OUQg1ZdXa",
        "outputId": "a0849716-0f8b-402a-cb0a-12a5e0def534"
      },
      "execution_count": null,
      "outputs": [
        {
          "output_type": "execute_result",
          "data": {
            "text/plain": [
              "   WhiteElo  BlackElo         WhiteName          BlackName Winner Termination  \\\n",
              "0      1639      1403             BFG9k            mamalak  White      Normal   \n",
              "1      1654      1919    Desmond_Wilson          savinka59  White      Normal   \n",
              "2      1643      1747     Kozakmamay007  VanillaShamanilla  White      Normal   \n",
              "3      1824      1973  Naitero_Nagasaki                800  Black      Normal   \n",
              "4      1765      1815      nichiren1967   Naitero_Nagasaki  Black      Normal   \n",
              "\n",
              "                           Site  Day  Month  Year  InitialTime  Increment  \\\n",
              "0  https://lichess.org/j1dkb5dw   31     12  2012          600          8   \n",
              "1  https://lichess.org/a9tcp02g   31     12  2012          480          2   \n",
              "2  https://lichess.org/szom2tog   31     12  2012          420         17   \n",
              "3  https://lichess.org/rklpc7mk   31     12  2012           60          1   \n",
              "4  https://lichess.org/1xb3os63   31     12  2012           60          1   \n",
              "\n",
              "  TimeControl                                      Opening  ECO  \\\n",
              "0       Rapid             French Defense: Normal Variation  C00   \n",
              "1       Rapid  Queen's Pawn Game: Colle System, Anti-Colle  D04   \n",
              "2       Rapid         Four Knights Game: Italian Variation  C50   \n",
              "3      Bullet         Caro-Kann Defense: Goldman Variation  B12   \n",
              "4      Bullet     French Defense: La Bourdonnais Variation  C00   \n",
              "\n",
              "   Number_of_Moves  \n",
              "0               13  \n",
              "1               18  \n",
              "2               11  \n",
              "3               47  \n",
              "4               23  "
            ],
            "text/html": [
              "\n",
              "  <div id=\"df-445849fd-c0e4-49de-93e8-16751b5c4257\">\n",
              "    <div class=\"colab-df-container\">\n",
              "      <div>\n",
              "<style scoped>\n",
              "    .dataframe tbody tr th:only-of-type {\n",
              "        vertical-align: middle;\n",
              "    }\n",
              "\n",
              "    .dataframe tbody tr th {\n",
              "        vertical-align: top;\n",
              "    }\n",
              "\n",
              "    .dataframe thead th {\n",
              "        text-align: right;\n",
              "    }\n",
              "</style>\n",
              "<table border=\"1\" class=\"dataframe\">\n",
              "  <thead>\n",
              "    <tr style=\"text-align: right;\">\n",
              "      <th></th>\n",
              "      <th>WhiteElo</th>\n",
              "      <th>BlackElo</th>\n",
              "      <th>WhiteName</th>\n",
              "      <th>BlackName</th>\n",
              "      <th>Winner</th>\n",
              "      <th>Termination</th>\n",
              "      <th>Site</th>\n",
              "      <th>Day</th>\n",
              "      <th>Month</th>\n",
              "      <th>Year</th>\n",
              "      <th>InitialTime</th>\n",
              "      <th>Increment</th>\n",
              "      <th>TimeControl</th>\n",
              "      <th>Opening</th>\n",
              "      <th>ECO</th>\n",
              "      <th>Number_of_Moves</th>\n",
              "    </tr>\n",
              "  </thead>\n",
              "  <tbody>\n",
              "    <tr>\n",
              "      <th>0</th>\n",
              "      <td>1639</td>\n",
              "      <td>1403</td>\n",
              "      <td>BFG9k</td>\n",
              "      <td>mamalak</td>\n",
              "      <td>White</td>\n",
              "      <td>Normal</td>\n",
              "      <td>https://lichess.org/j1dkb5dw</td>\n",
              "      <td>31</td>\n",
              "      <td>12</td>\n",
              "      <td>2012</td>\n",
              "      <td>600</td>\n",
              "      <td>8</td>\n",
              "      <td>Rapid</td>\n",
              "      <td>French Defense: Normal Variation</td>\n",
              "      <td>C00</td>\n",
              "      <td>13</td>\n",
              "    </tr>\n",
              "    <tr>\n",
              "      <th>1</th>\n",
              "      <td>1654</td>\n",
              "      <td>1919</td>\n",
              "      <td>Desmond_Wilson</td>\n",
              "      <td>savinka59</td>\n",
              "      <td>White</td>\n",
              "      <td>Normal</td>\n",
              "      <td>https://lichess.org/a9tcp02g</td>\n",
              "      <td>31</td>\n",
              "      <td>12</td>\n",
              "      <td>2012</td>\n",
              "      <td>480</td>\n",
              "      <td>2</td>\n",
              "      <td>Rapid</td>\n",
              "      <td>Queen's Pawn Game: Colle System, Anti-Colle</td>\n",
              "      <td>D04</td>\n",
              "      <td>18</td>\n",
              "    </tr>\n",
              "    <tr>\n",
              "      <th>2</th>\n",
              "      <td>1643</td>\n",
              "      <td>1747</td>\n",
              "      <td>Kozakmamay007</td>\n",
              "      <td>VanillaShamanilla</td>\n",
              "      <td>White</td>\n",
              "      <td>Normal</td>\n",
              "      <td>https://lichess.org/szom2tog</td>\n",
              "      <td>31</td>\n",
              "      <td>12</td>\n",
              "      <td>2012</td>\n",
              "      <td>420</td>\n",
              "      <td>17</td>\n",
              "      <td>Rapid</td>\n",
              "      <td>Four Knights Game: Italian Variation</td>\n",
              "      <td>C50</td>\n",
              "      <td>11</td>\n",
              "    </tr>\n",
              "    <tr>\n",
              "      <th>3</th>\n",
              "      <td>1824</td>\n",
              "      <td>1973</td>\n",
              "      <td>Naitero_Nagasaki</td>\n",
              "      <td>800</td>\n",
              "      <td>Black</td>\n",
              "      <td>Normal</td>\n",
              "      <td>https://lichess.org/rklpc7mk</td>\n",
              "      <td>31</td>\n",
              "      <td>12</td>\n",
              "      <td>2012</td>\n",
              "      <td>60</td>\n",
              "      <td>1</td>\n",
              "      <td>Bullet</td>\n",
              "      <td>Caro-Kann Defense: Goldman Variation</td>\n",
              "      <td>B12</td>\n",
              "      <td>47</td>\n",
              "    </tr>\n",
              "    <tr>\n",
              "      <th>4</th>\n",
              "      <td>1765</td>\n",
              "      <td>1815</td>\n",
              "      <td>nichiren1967</td>\n",
              "      <td>Naitero_Nagasaki</td>\n",
              "      <td>Black</td>\n",
              "      <td>Normal</td>\n",
              "      <td>https://lichess.org/1xb3os63</td>\n",
              "      <td>31</td>\n",
              "      <td>12</td>\n",
              "      <td>2012</td>\n",
              "      <td>60</td>\n",
              "      <td>1</td>\n",
              "      <td>Bullet</td>\n",
              "      <td>French Defense: La Bourdonnais Variation</td>\n",
              "      <td>C00</td>\n",
              "      <td>23</td>\n",
              "    </tr>\n",
              "  </tbody>\n",
              "</table>\n",
              "</div>\n",
              "      <button class=\"colab-df-convert\" onclick=\"convertToInteractive('df-445849fd-c0e4-49de-93e8-16751b5c4257')\"\n",
              "              title=\"Convert this dataframe to an interactive table.\"\n",
              "              style=\"display:none;\">\n",
              "        \n",
              "  <svg xmlns=\"http://www.w3.org/2000/svg\" height=\"24px\"viewBox=\"0 0 24 24\"\n",
              "       width=\"24px\">\n",
              "    <path d=\"M0 0h24v24H0V0z\" fill=\"none\"/>\n",
              "    <path d=\"M18.56 5.44l.94 2.06.94-2.06 2.06-.94-2.06-.94-.94-2.06-.94 2.06-2.06.94zm-11 1L8.5 8.5l.94-2.06 2.06-.94-2.06-.94L8.5 2.5l-.94 2.06-2.06.94zm10 10l.94 2.06.94-2.06 2.06-.94-2.06-.94-.94-2.06-.94 2.06-2.06.94z\"/><path d=\"M17.41 7.96l-1.37-1.37c-.4-.4-.92-.59-1.43-.59-.52 0-1.04.2-1.43.59L10.3 9.45l-7.72 7.72c-.78.78-.78 2.05 0 2.83L4 21.41c.39.39.9.59 1.41.59.51 0 1.02-.2 1.41-.59l7.78-7.78 2.81-2.81c.8-.78.8-2.07 0-2.86zM5.41 20L4 18.59l7.72-7.72 1.47 1.35L5.41 20z\"/>\n",
              "  </svg>\n",
              "      </button>\n",
              "      \n",
              "  <style>\n",
              "    .colab-df-container {\n",
              "      display:flex;\n",
              "      flex-wrap:wrap;\n",
              "      gap: 12px;\n",
              "    }\n",
              "\n",
              "    .colab-df-convert {\n",
              "      background-color: #E8F0FE;\n",
              "      border: none;\n",
              "      border-radius: 50%;\n",
              "      cursor: pointer;\n",
              "      display: none;\n",
              "      fill: #1967D2;\n",
              "      height: 32px;\n",
              "      padding: 0 0 0 0;\n",
              "      width: 32px;\n",
              "    }\n",
              "\n",
              "    .colab-df-convert:hover {\n",
              "      background-color: #E2EBFA;\n",
              "      box-shadow: 0px 1px 2px rgba(60, 64, 67, 0.3), 0px 1px 3px 1px rgba(60, 64, 67, 0.15);\n",
              "      fill: #174EA6;\n",
              "    }\n",
              "\n",
              "    [theme=dark] .colab-df-convert {\n",
              "      background-color: #3B4455;\n",
              "      fill: #D2E3FC;\n",
              "    }\n",
              "\n",
              "    [theme=dark] .colab-df-convert:hover {\n",
              "      background-color: #434B5C;\n",
              "      box-shadow: 0px 1px 3px 1px rgba(0, 0, 0, 0.15);\n",
              "      filter: drop-shadow(0px 1px 2px rgba(0, 0, 0, 0.3));\n",
              "      fill: #FFFFFF;\n",
              "    }\n",
              "  </style>\n",
              "\n",
              "      <script>\n",
              "        const buttonEl =\n",
              "          document.querySelector('#df-445849fd-c0e4-49de-93e8-16751b5c4257 button.colab-df-convert');\n",
              "        buttonEl.style.display =\n",
              "          google.colab.kernel.accessAllowed ? 'block' : 'none';\n",
              "\n",
              "        async function convertToInteractive(key) {\n",
              "          const element = document.querySelector('#df-445849fd-c0e4-49de-93e8-16751b5c4257');\n",
              "          const dataTable =\n",
              "            await google.colab.kernel.invokeFunction('convertToInteractive',\n",
              "                                                     [key], {});\n",
              "          if (!dataTable) return;\n",
              "\n",
              "          const docLinkHtml = 'Like what you see? Visit the ' +\n",
              "            '<a target=\"_blank\" href=https://colab.research.google.com/notebooks/data_table.ipynb>data table notebook</a>'\n",
              "            + ' to learn more about interactive tables.';\n",
              "          element.innerHTML = '';\n",
              "          dataTable['output_type'] = 'display_data';\n",
              "          await google.colab.output.renderOutput(dataTable, element);\n",
              "          const docLink = document.createElement('div');\n",
              "          docLink.innerHTML = docLinkHtml;\n",
              "          element.appendChild(docLink);\n",
              "        }\n",
              "      </script>\n",
              "    </div>\n",
              "  </div>\n",
              "  "
            ]
          },
          "metadata": {},
          "execution_count": 55
        }
      ]
    },
    {
      "cell_type": "markdown",
      "source": [
        "Dask read csv completed: 2s"
      ],
      "metadata": {
        "id": "DECg3VESaNXW"
      }
    },
    {
      "cell_type": "code",
      "source": [
        "!python -m pip install \"ray\""
      ],
      "metadata": {
        "colab": {
          "base_uri": "https://localhost:8080/"
        },
        "id": "mb-aRghYaSJO",
        "outputId": "5cff48e6-bcb2-4e96-c01e-f25629410466"
      },
      "execution_count": null,
      "outputs": [
        {
          "output_type": "stream",
          "name": "stdout",
          "text": [
            "Looking in indexes: https://pypi.org/simple, https://us-python.pkg.dev/colab-wheels/public/simple/\n",
            "Collecting ray\n",
            "  Downloading ray-1.13.0-cp37-cp37m-manylinux2014_x86_64.whl (54.5 MB)\n",
            "\u001b[K     |████████████████████████████████| 54.5 MB 204 kB/s \n",
            "\u001b[?25hRequirement already satisfied: click<=8.0.4,>=7.0 in /usr/local/lib/python3.7/dist-packages (from ray) (7.1.2)\n",
            "Requirement already satisfied: aiosignal in /usr/local/lib/python3.7/dist-packages (from ray) (1.2.0)\n",
            "Requirement already satisfied: protobuf<4.0.0,>=3.15.3 in /usr/local/lib/python3.7/dist-packages (from ray) (3.17.3)\n",
            "Requirement already satisfied: pyyaml in /usr/local/lib/python3.7/dist-packages (from ray) (3.13)\n",
            "Requirement already satisfied: jsonschema in /usr/local/lib/python3.7/dist-packages (from ray) (4.3.3)\n",
            "Requirement already satisfied: requests in /usr/local/lib/python3.7/dist-packages (from ray) (2.23.0)\n",
            "Requirement already satisfied: filelock in /usr/local/lib/python3.7/dist-packages (from ray) (3.7.1)\n",
            "Requirement already satisfied: numpy>=1.16 in /usr/local/lib/python3.7/dist-packages (from ray) (1.21.6)\n",
            "Collecting virtualenv\n",
            "  Downloading virtualenv-20.16.3-py2.py3-none-any.whl (8.8 MB)\n",
            "\u001b[K     |████████████████████████████████| 8.8 MB 42.9 MB/s \n",
            "\u001b[?25hRequirement already satisfied: attrs in /usr/local/lib/python3.7/dist-packages (from ray) (22.1.0)\n",
            "Collecting grpcio<=1.43.0,>=1.28.1\n",
            "  Downloading grpcio-1.43.0-cp37-cp37m-manylinux_2_17_x86_64.manylinux2014_x86_64.whl (4.1 MB)\n",
            "\u001b[K     |████████████████████████████████| 4.1 MB 34.3 MB/s \n",
            "\u001b[?25hRequirement already satisfied: msgpack<2.0.0,>=1.0.0 in /usr/local/lib/python3.7/dist-packages (from ray) (1.0.4)\n",
            "Requirement already satisfied: frozenlist in /usr/local/lib/python3.7/dist-packages (from ray) (1.3.0)\n",
            "Requirement already satisfied: six>=1.5.2 in /usr/local/lib/python3.7/dist-packages (from grpcio<=1.43.0,>=1.28.1->ray) (1.15.0)\n",
            "Requirement already satisfied: pyrsistent!=0.17.0,!=0.17.1,!=0.17.2,>=0.14.0 in /usr/local/lib/python3.7/dist-packages (from jsonschema->ray) (0.18.1)\n",
            "Requirement already satisfied: importlib-resources>=1.4.0 in /usr/local/lib/python3.7/dist-packages (from jsonschema->ray) (5.9.0)\n",
            "Requirement already satisfied: typing-extensions in /usr/local/lib/python3.7/dist-packages (from jsonschema->ray) (4.1.1)\n",
            "Requirement already satisfied: importlib-metadata in /usr/local/lib/python3.7/dist-packages (from jsonschema->ray) (4.12.0)\n",
            "Requirement already satisfied: zipp>=3.1.0 in /usr/local/lib/python3.7/dist-packages (from importlib-resources>=1.4.0->jsonschema->ray) (3.8.1)\n",
            "Requirement already satisfied: chardet<4,>=3.0.2 in /usr/local/lib/python3.7/dist-packages (from requests->ray) (3.0.4)\n",
            "Requirement already satisfied: idna<3,>=2.5 in /usr/local/lib/python3.7/dist-packages (from requests->ray) (2.10)\n",
            "Requirement already satisfied: urllib3!=1.25.0,!=1.25.1,<1.26,>=1.21.1 in /usr/local/lib/python3.7/dist-packages (from requests->ray) (1.24.3)\n",
            "Requirement already satisfied: certifi>=2017.4.17 in /usr/local/lib/python3.7/dist-packages (from requests->ray) (2022.6.15)\n",
            "Collecting distlib<1,>=0.3.5\n",
            "  Downloading distlib-0.3.5-py2.py3-none-any.whl (466 kB)\n",
            "\u001b[K     |████████████████████████████████| 466 kB 61.5 MB/s \n",
            "\u001b[?25hCollecting platformdirs<3,>=2.4\n",
            "  Downloading platformdirs-2.5.2-py3-none-any.whl (14 kB)\n",
            "Installing collected packages: platformdirs, distlib, virtualenv, grpcio, ray\n",
            "  Attempting uninstall: grpcio\n",
            "    Found existing installation: grpcio 1.47.0\n",
            "    Uninstalling grpcio-1.47.0:\n",
            "      Successfully uninstalled grpcio-1.47.0\n",
            "Successfully installed distlib-0.3.5 grpcio-1.43.0 platformdirs-2.5.2 ray-1.13.0 virtualenv-20.16.3\n"
          ]
        }
      ]
    },
    {
      "cell_type": "code",
      "source": [
        "import ray\n",
        "ds = ray.data.read_csv(\"Lichess_2013_2014_Complete.csv\")\n",
        "ds.head()"
      ],
      "metadata": {
        "id": "XvN-lw4jbuQj"
      },
      "execution_count": null,
      "outputs": []
    },
    {
      "cell_type": "markdown",
      "source": [
        "Ray read csv: 1m 25s"
      ],
      "metadata": {
        "id": "rsLSNCMQb8hU"
      }
    },
    {
      "cell_type": "markdown",
      "source": [
        "#Summary"
      ],
      "metadata": {
        "id": "FSMiaPfkc34H"
      }
    },
    {
      "cell_type": "code",
      "source": [
        "num_rows = len(df_sample.index)\n",
        "num_cols = len(df_sample.columns)\n",
        "file_size = '2GB'\n",
        "\n",
        "time_pandas = '33s'\n",
        "time_wYAML = '29s'\n",
        "time_ray = '1min 25'\n",
        "time_dask = '2s'\n"
      ],
      "metadata": {
        "id": "67aSIigBdMyO"
      },
      "execution_count": null,
      "outputs": []
    },
    {
      "cell_type": "code",
      "source": [
        "print(f'Total number of rows: {num_rows}')\n",
        "print(f'Total number of columns: {num_cols}')\n",
        "print(f'File Size: {file_size}')\n",
        "print(f'Time for pandas read_csv: {time_pandas}')\n",
        "print(f'Time for read_csv with YAML config: {time_wYAML}')\n",
        "print(f'Time for ray read_csv: {time_ray}')\n",
        "print(f'Time for dask read_csv: {time_dask}')"
      ],
      "metadata": {
        "colab": {
          "base_uri": "https://localhost:8080/"
        },
        "id": "fZ2474tXdGmu",
        "outputId": "36f6fbd1-855c-4a88-e536-3cb5b2fff1cf"
      },
      "execution_count": null,
      "outputs": [
        {
          "output_type": "stream",
          "name": "stdout",
          "text": [
            "Total number of rows: 11401425\n",
            "Total number of columns: 16\n",
            "File Size: 2GB\n",
            "Time for pandas read_csv: 33s\n",
            "Time for read_csv with YAML config: 29s\n",
            "Time for ray read_csv: 1min 25\n",
            "Time for dask read_csv: 2s\n"
          ]
        }
      ]
    },
    {
      "cell_type": "code",
      "source": [
        ""
      ],
      "metadata": {
        "id": "QwBAFNIneCFr"
      },
      "execution_count": null,
      "outputs": []
    }
  ]
}